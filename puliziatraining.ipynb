{
 "cells": [
  {
   "cell_type": "markdown",
   "id": "15fd8800",
   "metadata": {},
   "source": [
    "# Pulizia del dataframe di training\n"
   ]
  },
  {
   "cell_type": "code",
   "execution_count": 1,
   "id": "9731b470",
   "metadata": {},
   "outputs": [],
   "source": [
    "import pandas as pd"
   ]
  },
  {
   "cell_type": "code",
   "execution_count": null,
   "id": "c5fb2c41",
   "metadata": {},
   "outputs": [],
   "source": [
    "training = pd.read_csv('training.csv', \n",
    "                           sep=':', index_col='pro')"
   ]
  }
 ],
 "metadata": {
  "kernelspec": {
   "display_name": "base",
   "language": "python",
   "name": "python3"
  },
  "language_info": {
   "codemirror_mode": {
    "name": "ipython",
    "version": 3
   },
   "file_extension": ".py",
   "mimetype": "text/x-python",
   "name": "python",
   "nbconvert_exporter": "python",
   "pygments_lexer": "ipython3",
   "version": "3.12.7"
  }
 },
 "nbformat": 4,
 "nbformat_minor": 5
}
